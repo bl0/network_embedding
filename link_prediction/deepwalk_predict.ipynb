{
 "cells": [
  {
   "cell_type": "code",
   "execution_count": 1,
   "metadata": {},
   "outputs": [],
   "source": [
    "from sklearn.linear_model import LogisticRegression\n",
    "from sklearn.model_selection import train_test_split\n",
    "from sklearn.metrics import roc_auc_score\n",
    "from gensim.models import Word2Vec, KeyedVectors\n",
    "import pandas as pd\n",
    "import numpy as np"
   ]
  },
  {
   "cell_type": "code",
   "execution_count": 2,
   "metadata": {},
   "outputs": [
    {
     "name": "stdout",
     "output_type": "stream",
     "text": [
      "(53918, 64)\n",
      "(550426, 2) (500000, 2)\n"
     ]
    }
   ],
   "source": [
    "embeddings_file = './output/facebook_embedding'\n",
    "train_file = './data/facebook_edgelist'\n",
    "test_file = './data/facebook_test'\n",
    "output_file = './output/prediction'\n",
    "\n",
    "model = KeyedVectors.load_word2vec_format(embeddings_file, binary=False)\n",
    "indexes = list(map(int, model.index2word))\n",
    "emb_matrix = model.vectors[np.argsort(indexes)]\n",
    "print(emb_matrix.shape)\n",
    "\n",
    "# index is start with 0 while node number is start with 1\n",
    "test_edgelist = pd.read_csv(test_file, names=[1, 2]).values - 1\n",
    "edgelist = pd.read_csv(train_file, names=[1, 2]).values - 1\n",
    "print(edgelist.shape, test_edgelist.shape)"
   ]
  },
  {
   "cell_type": "markdown",
   "metadata": {},
   "source": [
    "# Logistic"
   ]
  },
  {
   "cell_type": "code",
   "execution_count": 16,
   "metadata": {},
   "outputs": [],
   "source": [
    "def get_edge_embeddings(emb_matrix, edge_list):\n",
    "    return emb_matrix[edge_list[:, 0]] * emb_matrix[edge_list[:, 1]]"
   ]
  },
  {
   "cell_type": "code",
   "execution_count": 18,
   "metadata": {},
   "outputs": [
    {
     "data": {
      "text/plain": [
       "0.9500315184799324"
      ]
     },
     "execution_count": 18,
     "metadata": {},
     "output_type": "execute_result"
    }
   ],
   "source": [
    "def make_false_edge(edgelist):\n",
    "    edgeset = set([tuple(i) for i in edgelist])\n",
    "    edge_false = []\n",
    "    while len(edge_false) < edgelist.shape[0]:\n",
    "        u = np.random.randint(0, emb_matrix.shape[0])\n",
    "        v = np.random.randint(0, emb_matrix.shape[0])\n",
    "        if u != v and (u, v) not in edgeset and (v, u) not in edgeset:\n",
    "            edge_false.append((u, v))\n",
    "    return np.array(edge_false)\n",
    "\n",
    "edge_false = make_false_edge(edgelist)\n",
    "edge_all = np.concatenate([edgelist, edge_false], axis=0)\n",
    "\n",
    "# assert\n",
    "# eq = edge_false.reshape(-1, 1, 2) == edgelist.reshape(1, -1, 2)\n",
    "# assert not eq.all(axis=2).any()\n",
    "\n",
    "test_edge_embeddings = get_edge_embeddings(emb_matrix, test_edgelist)\n",
    "embeddings = get_edge_embeddings(emb_matrix, edge_all)\n",
    "\n",
    "labels = np.concatenate([np.ones(edgelist.shape[0]), \n",
    "                         np.zeros(edgelist.shape[0])], axis=0)\n",
    "\n",
    "# cross validation\n",
    "X_train, X_val, y_train, y_val = train_test_split(embeddings, labels, test_size=0.2, shuffle=True, random_state=0)\n",
    "\n",
    "classifier = LogisticRegression(random_state=0, solver='lbfgs')\n",
    "classifier.fit(X_train, y_train)\n",
    "val_preds = classifier.predict_proba(X_val)[:, 1]\n",
    "roc_auc_score(y_val, val_preds)"
   ]
  },
  {
   "cell_type": "code",
   "execution_count": 7,
   "metadata": {},
   "outputs": [],
   "source": [
    "def write_results(output_file, test_edgelist, test_preds):\n",
    "    with open(output_file, 'w') as f:\n",
    "        f.write('NodePair,Score\\n')\n",
    "        for (u, v), pred in zip(test_edgelist, test_preds):\n",
    "            f.write('{}-{},{}\\n'.format(u+1, v+1, pred))\n",
    "\n",
    "# test and write results\n",
    "classifier = LogisticRegression(random_state=0, solver='lbfgs')\n",
    "classifier.fit(embeddings, labels)\n",
    "test_preds = classifier.predict_proba(test_edge_embeddings)[:, 1]\n",
    "\n",
    "write_results(output_file, test_edgelist, test_preds)"
   ]
  },
  {
   "cell_type": "markdown",
   "metadata": {},
   "source": [
    "# inner product"
   ]
  },
  {
   "cell_type": "code",
   "execution_count": 8,
   "metadata": {},
   "outputs": [
    {
     "data": {
      "text/plain": [
       "0.8810307395900614"
      ]
     },
     "execution_count": 8,
     "metadata": {},
     "output_type": "execute_result"
    }
   ],
   "source": [
    "# cross validation\n",
    "ip = np.sum(emb_matrix[edge_all[:, 0]] * emb_matrix[edge_all[:, 1]], axis=1)\n",
    "pred = np.interp(ip, (ip.min(), ip.max()), (0, 1))\n",
    "roc_auc_score(labels, pred)"
   ]
  },
  {
   "cell_type": "code",
   "execution_count": 9,
   "metadata": {},
   "outputs": [],
   "source": [
    "# test and write results\n",
    "ip = np.sum(emb_matrix[test_edgelist[:, 0]] * emb_matrix[test_edgelist[:, 1]], axis=1)\n",
    "pred = np.interp(ip, (ip.min(), ip.max()), (0, 1))\n",
    "write_results('./output/deepwalk_inner_product_pred.csv', test_edgelist, pred)"
   ]
  }
 ],
 "metadata": {
  "kernelspec": {
   "display_name": "Python 3",
   "language": "python",
   "name": "python3"
  },
  "language_info": {
   "codemirror_mode": {
    "name": "ipython",
    "version": 3
   },
   "file_extension": ".py",
   "mimetype": "text/x-python",
   "name": "python",
   "nbconvert_exporter": "python",
   "pygments_lexer": "ipython3",
   "version": "3.6.7"
  }
 },
 "nbformat": 4,
 "nbformat_minor": 2
}
